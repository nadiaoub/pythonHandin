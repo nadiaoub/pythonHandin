{
 "cells": [
  {
   "cell_type": "markdown",
   "metadata": {},
   "source": [
    "WEBCRAWL opgave\n",
    "\n",
    "Opgave 1     \n",
    "\n",
    "Go to Steam Web Page (dataset link)\n",
    "Type in search 'Dragon Age'\n",
    "Click Search\n",
    "Save a list of all games found with 'Dragon Age' in the game title\n",
    "Print the title of the game that is the oldest\n",
    "\n",
    "Opgave 2     \n",
    "\n",
    "Go to Steam Web Page (dataset link)\n",
    "Type in search 'Total Annihilation Original'\n",
    "Click Search\n",
    "plot the items in the list into a bar-plot (title as x-labels and price as y-values)\n",
    "find the most expensive game\n",
    "find the oldest game\n",
    "\n",
    "\n",
    "Opgave 3\n",
    "Go to Steam Web Page (dataset link)\n",
    "Type in search 'Train Simulator'\n",
    "Click Search\n",
    "Click into the detail page for the first item in the search list (should be Train Simulator 2021)\n",
    "Print the price for the game\n",
    "Print a list of all dlc names and prices\n",
    "Print the dlc title of the most expensive dlc in the list\n",
    "Calculate and Print the price of the base game with all dlcs added"
   ]
  },
  {
   "cell_type": "code",
   "execution_count": 9,
   "metadata": {},
   "outputs": [
    {
     "name": "stdout",
     "output_type": "stream",
     "text": [
      "['Dragon Age II', 'Dragon Age™ Inquisition', 'Dragon Age: Origins - Ultimate Edition', 'Dragon Age™: Origins Awakening', 'Dragon Age: Origins']\n",
      "The Oldest Title = Dragon Age: Origins\n"
     ]
    }
   ],
   "source": [
    "import bs4 \n",
    "import requests\n",
    "\n",
    "r = requests.get(\n",
    "    'https://store.steampowered.com/search/?sort_by=Released_DESC&term=dragon+age&untags=492&category1=998&os=win')\n",
    "r.raise_for_status()\n",
    "soup = bs4.BeautifulSoup(r.text, 'html.parser')\n",
    "    \n",
    "container = soup.select_one('#search_resultsRows')\n",
    "title=soup.find_all('span', class_='title')\n",
    "spans = container.select('#search_resultsRows span.title, div.col.search_released.responsive_secondrow')\n",
    "\n",
    "\n",
    "data = []\n",
    "\n",
    "for span in title:\n",
    "    if ('Dragon Age' in span.text):\n",
    "        data.append(span.text)\n",
    "\n",
    "print(data)\n",
    "\n",
    "\n",
    "print('The Oldest Title = '+data[len(data)-1])\n",
    "\n",
    "\n",
    "\n",
    "\n"
   ]
  },
  {
   "cell_type": "code",
   "execution_count": 108,
   "metadata": {},
   "outputs": [
    {
     "name": "stdout",
     "output_type": "stream",
     "text": [
      "Total Annihilation \r\n",
      "                        4,99€                    \n",
      "Serious Sam 3: BFE \r\n",
      "                        36,99€                    \n",
      "LIGHTNING RETURNS™: FINAL FANTASY® XIII \r\n",
      "                        15,99€                    \n",
      "Company of Heroes: Opposing Fronts \r\n",
      "                        12,99€                    \n",
      "Final Days \r\n",
      "                        4,99€                    \n",
      "[4.99, 36.99, 15.99, 12.99, 4.99]\n",
      "Largest element is: 36.99\n"
     ]
    },
    {
     "data": {
      "image/png": "[encoded data removed]",
      "text/plain": [
       "<Figure size 432x288 with 1 Axes>"
      ]
     },
     "metadata": {
      "needs_background": "light"
     },
     "output_type": "display_data"
    }
   ],
   "source": [
    "#Go to Steam Web Page (dataset link) Type in search 'Total Annihilation Original' Click Search plot the items in the list into a bar-plot (title as x-labels and price as y-values) find the most expensive game find the oldest game\n",
    "import matplotlib.pyplot as plt\n",
    "r=requests.get('https://store.steampowered.com/search/?term=Total+Annihilation+Original&untags=3798&category1=998 ",
    "')\n",
    "\n",
    "r.raise_for_status()\n",
    "soup =bs4.BeautifulSoup(r.text, 'html.parser')\n",
    "\n",
    "container = soup.select_one('#search_resultsRows')\n",
    "titles=soup.find_all('span',class_=\"title\")\n",
    "prices=soup.find_all('div',class_=\"search_price\")\n",
    "\n",
    "tit=[]\n",
    "pric=[]\n",
    "\n",
    "for titles,prices in zip(titles,prices):\n",
    "    print(titles.getText(),prices.getText())\n",
    "    pric.append(prices.text)\n",
    "    tit.append(titles.text)\n",
    "\n",
    "for i,s in enumerate(pric):\n",
    "    pric[i] = s.strip()\n",
    "\n",
    "    \n",
    "pric=[x[:-1] for x in pric]\n",
    "\n",
    "\n",
    "pric = [i.replace(',', '.') for i in pric] \n",
    "\n",
    "#converts the list of strings to floats\n",
    "floatPrices=list(map(float, pric))\n",
    "\n",
    "\n",
    "    \n",
    "\n",
    "plt.bar(tit,floatPrices,width=0.5,align='center')\n",
    "plt.xticks(rotation=45,horizontalalignment='right',fontweight='light')\n",
    "\n",
    "print(floatpric)\n",
    "\n",
    "\n",
    "print(\"Biggest price is:\", max(floatpric)) \n",
    "\n",
    "\n",
    "\n",
    "\n",
    "\n",
    "    \n"
   ]
  },
  {
   "cell_type": "code",
   "execution_count": null,
   "metadata": {},
   "outputs": [],
   "source": [
    "r=requests.get('https://store.steampowered.com/app/24010/Train_Simulator_2021/')\n",
    "\n",
    "r.raise_for_status()\n",
    "soup =bs4.BeautifulSoup(r.text, 'html.parser')\n",
    "\n"
   ]
  },
  {
   "cell_type": "code",
   "execution_count": null,
   "metadata": {},
   "outputs": [],
   "source": []
  },
  {
   "cell_type": "code",
   "execution_count": null,
   "metadata": {},
   "outputs": [],
   "source": []
  }
 ],
 "metadata": {
  "kernelspec": {
   "display_name": "Python 3",
   "language": "python",
   "name": "python3"
  },
  "language_info": {
   "codemirror_mode": {
    "name": "ipython",
    "version": 3
   },
   "file_extension": ".py",
   "mimetype": "text/x-python",
   "name": "python",
   "nbconvert_exporter": "python",
   "pygments_lexer": "ipython3",
   "version": "3.7.6"
  }
 },
 "nbformat": 4,
 "nbformat_minor": 4
}
