{
 "cells": [
  {
   "cell_type": "markdown",
   "metadata": {},
   "source": [
    "WEBCRAWL opgave\n",
    "\n",
    "Opgave 1     \n",
    "\n",
    "Go to Steam Web Page (dataset link)\n",
    "Type in search 'Dragon Age'\n",
    "Click Search\n",
    "Save a list of all games found with 'Dragon Age' in the game title\n",
    "Print the title of the game that is the oldest\n",
    "\n",
    "Opgave 2     \n",
    "\n",
    "Go to Steam Web Page (dataset link)\n",
    "Type in search 'Total Annihilation Original'\n",
    "Click Search\n",
    "plot the items in the list into a bar-plot (title as x-labels and price as y-values)\n",
    "find the most expensive game\n",
    "find the oldest game"
   ]
  },
  {
   "cell_type": "code",
   "execution_count": 37,
   "metadata": {},
   "outputs": [
    {
     "name": "stdout",
     "output_type": "stream",
     "text": [
      "[<span class=\"title\">Dragon Age™ Inquisition</span>, <span class=\"title\">Dragon Age II</span>, <span class=\"title\">DRAGON QUEST® XI S: Echoes of an Elusive Age™ - Definitive Edition</span>, <span class=\"title\">Dragon Age: Origins - Ultimate Edition</span>, <span class=\"title\">Dragon Age: Origins</span>, <span class=\"title\">Dragon Age™: Origins Awakening</span>, <span class=\"title\">RuneScape ®</span>, <span class=\"title\">Game of Thrones Winter is Coming</span>, <span class=\"title\">GreedFall</span>, <span class=\"title\">Driftland: The Magic Revival</span>, <span class=\"title\">The Age of Decadence</span>, <span class=\"title\">King of Dragon Pass</span>, <span class=\"title\">Dragon Spirits : Prologue</span>, <span class=\"title\">Dragon Climax</span>, <span class=\"title\">Nioh: Complete Edition / 仁王 Complete Edition</span>, <span class=\"title\">DragonRide VR</span>, <span class=\"title\">Dragon Rage</span>, <span class=\"title\">Dragon Spirits 龙魂：学院奇闻</span>, <span class=\"title\">Aria: Dragon Eater</span>, <span class=\"title\">Age of Giants</span>, <span class=\"title\">Dragon and Weed: Origins - Prologue</span>, <span class=\"title\">Dragon: The Game</span>, <span class=\"title\">Solitaire. Dragon Light</span>, <span class=\"title\">Digging Dragon</span>, <span class=\"title\">Mass Effect 2 Digital Deluxe Edition</span>, <span class=\"title\">Dragon Lapis</span>, <span class=\"title\">Chronos: Before the Ashes</span>, <span class=\"title\">Dragon and Weed: Origins OB - Dual Edges</span>, <span class=\"title\">Wildermyth</span>, <span class=\"title\">SpellForce 2 - Anniversary Edition</span>, <span class=\"title\">School of Dragons</span>, <span class=\"title\">Syberia 3</span>, <span class=\"title\">Syberia: The World Before</span>, <span class=\"title\">Urtuk: The Desolation</span>, <span class=\"title\">Six Ages: Ride Like the Wind</span>, <span class=\"title\">Operencia: The Stolen Sun</span>, <span class=\"title\">CHRONO TRIGGER®</span>, <span class=\"title\">The Ditzy Demons Are in Love With Me</span>, <span class=\"title\">The Lord of the Rings: Adventure Card Game - Definitive Edition</span>, <span class=\"title\">Island SAGA</span>, <span class=\"title\">Shadowrun: Dragonfall - Director's Cut</span>, <span class=\"title\">Dark and Light</span>, <span class=\"title\">OrbusVR: Reborn</span>, <span class=\"title\">Dance of Death: Du Lac &amp; Fey</span>, <span class=\"title\">Syberia: The World Before - Prologue</span>, <span class=\"title\">Two Worlds II HD</span>, <span class=\"title\">Winds of Change</span>, <span class=\"title\">Rumu</span>, <span class=\"title\">The Book of Unwritten Tales</span>, <span class=\"title\">Shieldwall Chronicles: Swords of the North</span>]\n",
      "{}\n"
     ]
    }
   ],
   "source": [
    "import bs4 \n",
    "import requests\n",
    "\n",
    "r = requests.get(\n",
    "    'https://store.steampowered.com/search/?term=Dragon+Age&category1=998')\n",
    "r.raise_for_status()\n",
    "soup = bs4.BeautifulSoup(r.text, 'html.parser')\n",
    "    \n",
    "container = soup.select_one('#search_resultsRows')\n",
    "spans = container.select('#search_resultsRows span.title')\n",
    "\n",
    "data = {}\n",
    "\n",
    "for span in spans:\n",
    "    if (',' in spans):\n",
    "        splits = span.title.split(',')\n",
    "        data[splits[0]] = splits[0]\n",
    "\n",
    "print(spans)\n",
    "\n",
    "\n",
    "print(data)\n",
    "\n",
    "   \n",
    "\n"
   ]
  },
  {
   "cell_type": "code",
   "execution_count": null,
   "metadata": {},
   "outputs": [],
   "source": [
    "#Go to Steam Web Page (dataset link) Type in search 'Total Annihilation Original' Click Search plot the items in the list into a bar-plot (title as x-labels and price as y-values) find the most expensive game find the oldest game\n",
    "\n",
    "r=requests.get('https://store.steampowered.com/search/?term=Total+Annihilation+Original&category1=998')\n",
    "\n",
    "r.raise_for_status()\n",
    "soup =bs4.BeautifulSoup(r.text, 'html.parser')\n",
    "\n",
    "container = soup.select_one('#search_resultsRows')\n",
    "spans=container.select('#search_resultsRows span')\n",
    "\n",
    "\n",
    "\n"
   ]
  }
 ],
 "metadata": {
  "kernelspec": {
   "display_name": "Python 3",
   "language": "python",
   "name": "python3"
  },
  "language_info": {
   "codemirror_mode": {
    "name": "ipython",
    "version": 3
   },
   "file_extension": ".py",
   "mimetype": "text/x-python",
   "name": "python",
   "nbconvert_exporter": "python",
   "pygments_lexer": "ipython3",
   "version": "3.7.6"
  }
 },
 "nbformat": 4,
 "nbformat_minor": 4
}
