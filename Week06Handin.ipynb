{
 "cells": [
  {
   "cell_type": "markdown",
   "metadata": {},
   "source": [
    "Handin Exercise 6\n",
    "Create a module containing a class with the following methods:\n",
    "init(self, url_list)\n",
    "download(url,filename) raises NotFoundException when url returns 404\n",
    "multi_download() uses threads to download multiple urls as text and stores filenames as a property\n",
    "iter() returns an iterator\n",
    "next() returns the next filename (and stops when there are no more)\n",
    "urllist_generator() returns a generator to loop through the urls\n",
    "avg_vowels(text) - a rough estimate on readability returns average number of vowels in the words of the text\n",
    "hardest_read() returns the filename of the text with the highest vowel score (use all the cpu cores on the computer for this work.\n",
    "Ex 2\n",
    "Create a notebook and import your module from above\n",
    "Find 10 books on https://www.gutenberg.org/browse/scores/top and download them using an object of the class you just created before\n",
    "Test the different methods of your class\n",
    "Make a bar plot with a sorted list of books on x-axis and avg vowels on y-axis"
   ]
  },
  {
   "cell_type": "code",
   "execution_count": null,
   "metadata": {},
   "outputs": [],
   "source": []
  }
 ],
 "metadata": {
  "kernelspec": {
   "display_name": "Python 3",
   "language": "python",
   "name": "python3"
  },
  "language_info": {
   "codemirror_mode": {
    "name": "ipython",
    "version": 3
   },
   "file_extension": ".py",
   "mimetype": "text/x-python",
   "name": "python",
   "nbconvert_exporter": "python",
   "pygments_lexer": "ipython3",
   "version": "3.7.6"
  }
 },
 "nbformat": 4,
 "nbformat_minor": 4
}
