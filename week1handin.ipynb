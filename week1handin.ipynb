{
 "cells": [
  {
   "cell_type": "code",
   "execution_count": 1,
   "metadata": {},
   "outputs": [
    {
     "name": "stdout",
     "output_type": "stream",
     "text": [
      "Theese names starts with H : ['Heather', 'Hannah', 'Harry']\n"
     ]
    }
   ],
   "source": [
    "# Solution 1.1 \n",
    "\n",
    "# - Iterate a list of names to return a list of the names starting with H \n",
    "\n",
    "names = (\"Sandra\",\"Jessica\",\"Heather\",\"Alice\",\"Hannah\",\"Michael\",\"Nick\",\"Harry\")\n",
    "specific_names = [name for name in names if name.lower().startswith(\"h\")]\n",
    "\n",
    "print(\"Theese names starts with H : \" + str(specific_names))"
   ]
  },
  {
   "cell_type": "code",
   "execution_count": 4,
   "metadata": {},
   "outputs": [
    {
     "data": {
      "text/plain": [
       "[1,\n",
       " 8,\n",
       " 27,\n",
       " 64,\n",
       " 125,\n",
       " 216,\n",
       " 343,\n",
       " 512,\n",
       " 729,\n",
       " 1000,\n",
       " 1331,\n",
       " 1728,\n",
       " 2197,\n",
       " 2744,\n",
       " 3375,\n",
       " 4096,\n",
       " 4913,\n",
       " 5832,\n",
       " 6859,\n",
       " 8000,\n",
       " 9261,\n",
       " 10648,\n",
       " 12167,\n",
       " 13824,\n",
       " 15625,\n",
       " 17576,\n",
       " 19683,\n",
       " 21952,\n",
       " 24389,\n",
       " 27000,\n",
       " 29791,\n",
       " 32768,\n",
       " 35937,\n",
       " 39304,\n",
       " 42875,\n",
       " 46656,\n",
       " 50653,\n",
       " 54872,\n",
       " 59319,\n",
       " 64000,\n",
       " 68921,\n",
       " 74088,\n",
       " 79507,\n",
       " 85184,\n",
       " 91125,\n",
       " 97336,\n",
       " 103823,\n",
       " 110592,\n",
       " 117649,\n",
       " 125000,\n",
       " 132651,\n",
       " 140608,\n",
       " 148877,\n",
       " 157464,\n",
       " 166375,\n",
       " 175616,\n",
       " 185193,\n",
       " 195112,\n",
       " 205379,\n",
       " 216000,\n",
       " 226981,\n",
       " 238328,\n",
       " 250047,\n",
       " 262144,\n",
       " 274625,\n",
       " 287496,\n",
       " 300763,\n",
       " 314432,\n",
       " 328509,\n",
       " 343000,\n",
       " 357911,\n",
       " 373248,\n",
       " 389017,\n",
       " 405224,\n",
       " 421875,\n",
       " 438976,\n",
       " 456533,\n",
       " 474552,\n",
       " 493039,\n",
       " 512000,\n",
       " 531441,\n",
       " 551368,\n",
       " 571787,\n",
       " 592704,\n",
       " 614125,\n",
       " 636056,\n",
       " 658503,\n",
       " 681472,\n",
       " 704969,\n",
       " 729000,\n",
       " 753571,\n",
       " 778688,\n",
       " 804357,\n",
       " 830584,\n",
       " 857375,\n",
       " 884736,\n",
       " 912673,\n",
       " 941192,\n",
       " 970299,\n",
       " 1000000]"
      ]
     },
     "execution_count": 4,
     "metadata": {},
     "output_type": "execute_result"
    }
   ],
   "source": [
    "#Solution 1.2 \n",
    "# In one line create a list of the numbers 1-100 to the power of 3 \n",
    "numbers = [i**3 for i in range(1,101)]\n",
    "numbers"
   ]
  },
  {
   "cell_type": "code",
   "execution_count": 5,
   "metadata": {},
   "outputs": [
    {
     "data": {
      "text/plain": [
       "[(4, 'Liam'),\n",
       " (4, 'Noah'),\n",
       " (4, 'Adam'),\n",
       " (4, 'Emma'),\n",
       " (6, 'Olivia'),\n",
       " (8, 'Isabella'),\n",
       " (5, 'James'),\n",
       " (7, 'Jessica'),\n",
       " (5, 'Harry')]"
      ]
     },
     "execution_count": 5,
     "metadata": {},
     "output_type": "execute_result"
    }
   ],
   "source": [
    "# Solution 1.3 \n",
    "#  Iterate a list of names to create a list of tuples where the tuples first value is the length of the name and the second is the name\n",
    "\n",
    "names2 = (\"Liam\",\"Noah\",\"Adam\",\"Emma\",\"Olivia\",\"Isabella\",\"James\",\"Jessica\",\"Harry\")\n",
    "\n",
    "tuples = [(len(var), var) for var in names2]\n",
    "tuples"
   ]
  },
  {
   "cell_type": "code",
   "execution_count": 6,
   "metadata": {},
   "outputs": [
    {
     "data": {
      "text/plain": [
       "['7',\n",
       " '1',\n",
       " '5',\n",
       " '0',\n",
       " '3',\n",
       " '0',\n",
       " '0',\n",
       " '1',\n",
       " '5',\n",
       " '4',\n",
       " '0',\n",
       " '4',\n",
       " '4',\n",
       " '1',\n",
       " '7',\n",
       " '1',\n",
       " '5']"
      ]
     },
     "execution_count": 6,
     "metadata": {},
     "output_type": "execute_result"
    }
   ],
   "source": [
    "# Solution 1.4\n",
    "# Iterate over each character in a string and get only those that are nummeric\n",
    "\n",
    "string = [i for i in '7H15 PR0V3S H0W 0UR M1ND5 C4N D0 4M4Z1NG 7H1NG5' if i.isdigit()]\n",
    "string"
   ]
  },
  {
   "cell_type": "code",
   "execution_count": 7,
   "metadata": {},
   "outputs": [
    {
     "name": "stdout",
     "output_type": "stream",
     "text": [
      "Theese are the combinations when throwing two dice: \n"
     ]
    },
    {
     "data": {
      "text/plain": [
       "[(1, 1),\n",
       " (1, 2),\n",
       " (1, 3),\n",
       " (1, 4),\n",
       " (1, 5),\n",
       " (1, 6),\n",
       " (2, 1),\n",
       " (2, 2),\n",
       " (2, 3),\n",
       " (2, 4),\n",
       " (2, 5),\n",
       " (2, 6),\n",
       " (3, 1),\n",
       " (3, 2),\n",
       " (3, 3),\n",
       " (3, 4),\n",
       " (3, 5),\n",
       " (3, 6),\n",
       " (4, 1),\n",
       " (4, 2),\n",
       " (4, 3),\n",
       " (4, 4),\n",
       " (4, 5),\n",
       " (4, 6),\n",
       " (5, 1),\n",
       " (5, 2),\n",
       " (5, 3),\n",
       " (5, 4),\n",
       " (5, 5),\n",
       " (5, 6),\n",
       " (6, 1),\n",
       " (6, 2),\n",
       " (6, 3),\n",
       " (6, 4),\n",
       " (6, 5),\n",
       " (6, 6)]"
      ]
     },
     "execution_count": 7,
     "metadata": {},
     "output_type": "execute_result"
    }
   ],
   "source": [
    "#Solution 1.5\n",
    "# Using only a list comprehension wrapped in set() get all possible combination from throwing 2 dice\n",
    "print(\"Theese are the combinations when throwing two dice: \")\n",
    "dices = [(dice1 , dice2)for dice1 in range(1,7) for dice2 in range (1,7)]\n",
    "dices"
   ]
  },
  {
   "cell_type": "code",
   "execution_count": 8,
   "metadata": {},
   "outputs": [
    {
     "data": {
      "text/plain": [
       "{'Liam': 4,\n",
       " 'Noah': 4,\n",
       " 'Adam': 4,\n",
       " 'Emma': 4,\n",
       " 'Olivia': 6,\n",
       " 'Isabella': 8,\n",
       " 'James': 5,\n",
       " 'Jessica': 7,\n",
       " 'Harry': 5}"
      ]
     },
     "execution_count": 8,
     "metadata": {},
     "output_type": "execute_result"
    }
   ],
   "source": [
    "#Solution 2.1\n",
    "# Iterate a list of names and create a dictionary where key is the name and value is the length of the name\n",
    "\n",
    "name_dic = {n:len(n) for n in names2}\n",
    "name_dic"
   ]
  },
  {
   "cell_type": "code",
   "execution_count": 3,
   "metadata": {},
   "outputs": [
    {
     "data": {
      "text/plain": [
       "{1: 1.0,\n",
       " 2: 1.4142135623730951,\n",
       " 3: 1.7320508075688772,\n",
       " 4: 2.0,\n",
       " 5: 2.23606797749979,\n",
       " 6: 2.449489742783178,\n",
       " 7: 2.6457513110645907,\n",
       " 8: 2.8284271247461903,\n",
       " 9: 3.0,\n",
       " 10: 3.1622776601683795,\n",
       " 11: 3.3166247903554,\n",
       " 12: 3.4641016151377544,\n",
       " 13: 3.605551275463989,\n",
       " 14: 3.7416573867739413,\n",
       " 15: 3.872983346207417,\n",
       " 16: 4.0,\n",
       " 17: 4.123105625617661,\n",
       " 18: 4.242640687119285,\n",
       " 19: 4.358898943540674,\n",
       " 20: 4.47213595499958,\n",
       " 21: 4.58257569495584,\n",
       " 22: 4.69041575982343,\n",
       " 23: 4.795831523312719,\n",
       " 24: 4.898979485566356,\n",
       " 25: 5.0,\n",
       " 26: 5.0990195135927845,\n",
       " 27: 5.196152422706632,\n",
       " 28: 5.291502622129181,\n",
       " 29: 5.385164807134504}"
      ]
     },
     "execution_count": 3,
     "metadata": {},
     "output_type": "execute_result"
    }
   ],
   "source": [
    "#Solution 2.2\n",
    "#Iterate a list of numbers and create a dictionary with (key, value) being (number, squareroot of number)\n",
    "import math\n",
    "\n",
    "numbers2 = {i:math.sqrt(i) for i in range (1,30)}\n",
    "numbers2"
   ]
  },
  {
   "cell_type": "code",
   "execution_count": null,
   "metadata": {},
   "outputs": [],
   "source": [
    "#Solution 3.1\n",
    "#Progammatically using loops create a small program to produce a dictionary with all the 2 dice throw combinations as keys and their likelyhood in percent as values"
   ]
  }
 ],
 "metadata": {
  "kernelspec": {
   "display_name": "Python 3",
   "language": "python",
   "name": "python3"
  },
  "language_info": {
   "codemirror_mode": {
    "name": "ipython",
    "version": 3
   },
   "file_extension": ".py",
   "mimetype": "text/x-python",
   "name": "python",
   "nbconvert_exporter": "python",
   "pygments_lexer": "ipython3",
   "version": "3.7.6"
  }
 },
 "nbformat": 4,
 "nbformat_minor": 4
}
