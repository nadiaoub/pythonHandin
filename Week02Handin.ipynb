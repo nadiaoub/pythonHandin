{
 "cells": [
  {
   "cell_type": "markdown",
   "metadata": {},
   "source": [
    "# Ecercise 01\n"
   ]
  },
  {
   "cell_type": "code",
   "execution_count": null,
   "metadata": {},
   "outputs": [],
   "source": [
    "#Create a program that can take an input and an output file and write the content of the input file into a list, the console or to the output file.\n",
    "from my_modules.copy_file_content_module import copy_content\n",
    "\n",
    "copy_content('input.txt', 'output.txt')\n",
    "\n"
   ]
  },
  {
   "cell_type": "code",
   "execution_count": 3,
   "metadata": {},
   "outputs": [
    {
     "name": "stdout",
     "output_type": "stream",
     "text": [
      "['line1\\n', 'line2\\n', 'line3']\n",
      "['year,roll,unem,hgrad,inc', '1,5501,8.1,9552,1923', '2,5945,7,9680,1961', '3,6629,7.3,9731,1979', '4,7556,7.5,11666,2030', '5,8716,7,14675,2112', '6,9369,6.4,15265,2192', '7,9920,6.5,15484,2235', '8,10167,6.4,15723,2351', '9,11084,6.3,16501,2411', '10,12504,7.7,16890,2475', '11,13746,8.2,17203,2524', '12,13656,7.5,17707,2674', '13,13850,7.4,18108,2833', '14,14145,8.2,18266,2863', '15,14888,10.1,19308,2839', '16,14991,9.2,18224,2898', '17,14836,7.7,18997,3123', '18,14478,5.7,19505,3195', '19,14539,6.5,19800,3239', '20,14395,7.5,19546,3129', '21,14599,7.3,19117,3100', '22,14969,9.2,18774,3008', '23,15107,10.1,17813,2983', '24,14831,7.5,17304,3069', '25,15081,8.8,16756,3151', '26,15127,9.1,16749,3127', '27,15856,8.8,16925,3179', '28,15938,7.8,17231,3207', '29,16081,7,16816,3345']\n"
     ]
    }
   ],
   "source": [
    "#Write a python file with 3 functions:\n",
    "\n",
    "# 1. def print_file_content(file) that can print content of a text file to the console\n",
    "\n",
    "import my_modules.io_module as io\n",
    "\n",
    "io.print_file_content('input.txt')\n",
    "\n",
    "# 2. def write_list_to_file(output_file, lst) that can take a list or tuple and write each element to a new line in file\n",
    "\n",
    "lst = ['hej', 'med', 'dig']\n",
    "\n",
    "io.write_list_to_file('list-output.txt', lst)\n",
    "\n",
    "# create a helper function that gets an arbitrary number of strings instead of a list\n",
    "\n",
    "io.write_strings_to_file('strings-output.txt', 'dette', 'er', 'flere', 'strings')\n",
    "\n",
    "# 3. def read_file(input_file) that take a csv file and read each row into a list\n",
    "\n",
    "print(io.read_file('enrollment_forecast.csv'))"
   ]
  },
  {
   "cell_type": "code",
   "execution_count": null,
   "metadata": {},
   "outputs": [],
   "source": [
    "# Add a functionality so that the program can be called from cli with 2 arguments\n",
    "# path to input file\n",
    "# an argument --file file_name to be used as the output file to write to.\n",
    "# if only the input file is given write output to console\n",
    "# if the input file is given with a list of extra words add those words to the output (whether to file or console)\n",
    "# Add 'help' attributes to each cli argument to describe how the module is used\n",
    "\n",
    "# see bottom of the file  io_module in my_modules for answer\n"
   ]
  }
 ],
 "metadata": {
  "kernelspec": {
   "display_name": "Python 3",
   "language": "python",
   "name": "python3"
  },
  "language_info": {
   "codemirror_mode": {
    "name": "ipython",
    "version": 3
   },
   "file_extension": ".py",
   "mimetype": "text/x-python",
   "name": "python",
   "nbconvert_exporter": "python",
   "pygments_lexer": "ipython3",
   "version": "3.7.6"
  }
 },
 "nbformat": 4,
 "nbformat_minor": 4
}
