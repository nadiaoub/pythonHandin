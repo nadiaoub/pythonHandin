{
 "cells": [
  {
   "cell_type": "markdown",
   "metadata": {},
   "source": [
    "Ex1 Use data from Danmarks Statistik - Databanken\n",
    "1.Go to https://www.dst.dk/da/Statistik/brug-statistikken/muligheder-i-statistikbanken/api#testkonsol\n",
    "2.Open 'Konsol' and click 'Start Konsol'\n",
    "3.In the console at pt 1: choose 'Retrieve tables', pt 2: choose get request and json format and pt 3: execute:\n",
    "check the result\n",
    "in the code below this same get request is used to get information about all available data tables in 'databanken'.\n",
    "Change pt. 1 in the console to 'Retrieve data', pt 2: 'get request' and Table id: 'FOLK1A', format: csv, delimiter: semicolon and click: 'Variable and value codes' and choose some sub categories (Hint: hover over the codes to see their meaning). Finally execute and see what data you get.\n",
    "With data aggregation and data visualization answer the following questions:\n",
    "What is the change in pct of divorced danes from 2008 to 2020?\n",
    "Which of the 5 biggest cities has the highest percentage of 'Never Married' in 2020?\n",
    "Show a bar chart of changes in marrital status in Copenhagen from 2008 till now\n",
    "Show 2 plots in same figure: 'Married' and 'Never Married' for all ages in DK in 2020 (Hint: x axis is age from 0-125, y axis is how many people in the 2 categories). Add lengend to show names on graphs\n",
    "Ex2 Use another table (extra)\n",
    "Choose any of the other tables in 'databanken' to find interesting data.\n",
    "Collect the data\n",
    "Pose 5 or more interesing questions to the data\n",
    "Answer the questions by aggregating the data\n",
    "Illustrate the answers with visual plots"
   ]
  }
 ],
 "metadata": {
  "kernelspec": {
   "display_name": "Python 3",
   "language": "python",
   "name": "python3"
  },
  "language_info": {
   "codemirror_mode": {
    "name": "ipython",
    "version": 3
   },
   "file_extension": ".py",
   "mimetype": "text/x-python",
   "name": "python",
   "nbconvert_exporter": "python",
   "pygments_lexer": "ipython3",
   "version": "3.7.6"
  }
 },
 "nbformat": 4,
 "nbformat_minor": 4
}
