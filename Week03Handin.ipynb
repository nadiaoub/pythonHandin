{
 "cells": [
  {
   "cell_type": "markdown",
   "metadata": {},
   "source": [
    "# Ex 1 Classes\n",
    "Create 3 classes: Student, DataSheet and Course\n",
    "A student has a data_sheet and a data_sheet has multiple courses in particular order\n",
    "Each course has name, classroom, teacher, ETCS and optional grade if course is taken.\n",
    "In Student create init() so that a Student can be initiated with name, gender, data_sheet and image_url\n",
    "In DataSheet create a method to get_grades_as_list()\n",
    "In student create a method: get_avg_grade()\n",
    "Create a function that can generate n number of students with random: name, gender, courses (from a fixed list of course names), grades, img_url\n",
    "Let the function write the result to a csv file with format stud_name, course_name, teacher, ects, classroom, grade, img_url\n",
    "Read student data into a list of Students from a csv file:\n",
    "loop through the list and print each student with name, img_url and avg_grade.\n",
    "sort the list by avg_grade\n",
    "create a bar chart with student_name on x and avg_grade on y-axis\n",
    "Make a method on Student class that can show progression of the study in % (add up ECTS from all passed courses divided by total of 150 total points (equivalent to 5 semesters))\n",
    "Show a bar chart of distribution of study progression on x-axis and number of students in each category on y-axis. (e.g. make 10 categories from 0-100%)\n",
    "Extra: Make the Datasheet class iterable so that next(data_sheet) will return the next course in the list\n",
    "Ex 2 Exceptions\n",
    "Create a function that can take a list of students and return the 3 students closest to completing their study.\n",
    "If list is shorter than 3 raise your own custom exception (NotEnoughStudentsException)\n",
    "Create another function that can create a csv file with 3 students closest to completion\n",
    "If an exception is raised write an appropriate message to the file\n",
    "Ex 3 Plotting\n",
    "Create a function that can take a list of students and show a pie chart of how students are distributed in ECTS percentage categories (10%, 20%, ...)\n",
    "create a function that can take a list of students and show how many students have taken each course (bar chart)\n",
    "create a method on student that can return a list of courses\n",
    "make the figure show males and females in different colors for each course (display 2 datasets in same figure)"
   ]
  },
  {
   "cell_type": "code",
   "execution_count": 34,
   "metadata": {},
   "outputs": [],
   "source": [
    "class Course:\n",
    "    def __init__(self, courseName, location, teacher, ETCS, grade = None):\n",
    "            \n",
    "        self.courseName = courseName\n",
    "        self.location = location\n",
    "        self.teacher = teacher\n",
    "        self.ETCS = ETCS\n",
    "        self.grade = grade\n",
    "           \n",
    "        #Python __repr__() function returns the object representation.\n",
    "\n",
    "    def __repr__(self):\n",
    "        return 'Course(%r, %r, %r, %r, %r)' %(self.courseName, self.location, self.teacher, self.ETCS, self.grade)\n",
    "        \n",
    "            \n",
    "    def __str__(self):\n",
    "        return '{courseName} is taught in {location} by {teacher} and the course is estimated to be {ETCS} ETCS points, and current grade is: {grade}'.format ( \n",
    "                courseName = self.courseName, location=self.location, teacher=self.teacher, ETCS=self.ETCS, grade = self.grade)\n",
    "         "
   ]
  },
  {
   "cell_type": "code",
   "execution_count": 49,
   "metadata": {},
   "outputs": [
    {
     "data": {
      "text/plain": [
       "'Geography is taught in 512 by Albert Einstein course is estimated to be 80 ETCS points, and current grade is: 13'"
      ]
     },
     "execution_count": 49,
     "metadata": {},
     "output_type": "execute_result"
    }
   ],
   "source": [
    "testc = Course(\"Geography\",512,\"Albert Einstein\", 80, \"13\")\n",
    "str(testc)"
   ]
  },
  {
   "cell_type": "code",
   "execution_count": 18,
   "metadata": {},
   "outputs": [],
   "source": [
    "class DataSheet():\n",
    "\n",
    "    def __init__(self, courses): \n",
    "        self.courses = [] #must be able to contain multiple courses\n",
    "        \n",
    "        for course in courses:\n",
    "            course = Course(course.courseName, course.location, course.teacher, course.ETCS, course.grade)\n",
    "            self.courses.append(course)\n",
    "    \n",
    "         \n",
    "    def __repr__(self):\n",
    "        return 'Courses: %r' % (self.courses)\n",
    "    \n",
    "    def __str__(self):\n",
    "        return 'List of courses: {courses}.'.format(\n",
    "            courses=self.courses)\n",
    "    \n",
    "    def __repr__(self):\n",
    "        return 'Datasheet(%r)' % (self.courses)\n",
    "    \n",
    "    def get_grade_list(self):\n",
    "        #creates a list of the grades a student has\n",
    "        \n",
    "        grades = []\n",
    "        for course in self.courses:\n",
    "            grades.append(int(course.grade))\n",
    "            return grades\n"
   ]
  },
  {
   "cell_type": "code",
   "execution_count": 58,
   "metadata": {},
   "outputs": [
    {
     "name": "stdout",
     "output_type": "stream",
     "text": [
      "List of courses: [Course('Science', 321, 'Newton', 45, '10'), Course('Poetry', 291, 'Søren Kirkegaard', 90, '04'), Course('Philosophy', 391, 'Platon', 120, '12'), Course('History', 543, 'Columbus', 59, None)].\n"
     ]
    }
   ],
   "source": [
    "#Testing courses\n",
    "\n",
    "c1 = Course(\"Science\",321,\"Newton\", 45, \"10\")\n",
    "c2 = Course(\"Poetry\",291,\"Søren Kirkegaard\", 90, \"04\")\n",
    "c3 = Course(\"Philosophy\",391,\"Platon\", 120,\"12\")\n",
    "c4 = Course(\"History\", 543,\"Columbus\", 59)\n",
    "\n",
    "courseList = [c1, c2, c3, c4]\n",
    "\n",
    "dataSheet = DataSheet(courseList)\n",
    "\n",
    "print (dataSheet)\n",
    "\n",
    "\n"
   ]
  },
  {
   "cell_type": "code",
   "execution_count": 45,
   "metadata": {},
   "outputs": [],
   "source": [
    "class Student():\n",
    "\n",
    "    #In Student create init() so that a Student can be initiated with name, gender, data_sheet and image_url\n",
    "    #In student create a method: get_avg_grade()\n",
    "    #Read student data into a list of Students from a csv file:\n",
    "    \n",
    "    def __init__(self, name, gender, data_sheet, img_url):\n",
    "        self.name = name\n",
    "        self.gender = gender\n",
    "        self.data_sheet = data_sheet #datasheet containing courses\n",
    "        self.img_url = img_url\n",
    "        \n",
    "    def __repr__(self):\n",
    "        return 'Student: (%r, %r, %r, %r)' % (self.name, self.gender, self.data_sheet, self.img_url)\n",
    "        \n",
    "    def __str__(self):\n",
    "        return 'Student:  {name}  Gender: {gender} has {data_sheet} image: {img}'.format(\n",
    "            name=self.name, gender=self.gender, data_sheet=self.data_sheet, img=self.img_url)\n",
    "    \n",
    "    #In student create a method: get_avg_grade()\n",
    "    def get_avg_grade(self):\n",
    "        grade_list = self.data_sheet.get_grade_list_grades_only()\n",
    "        avg_grade =  sum(grade_list)/len(grade_list)  \n",
    "        return avg_grade"
   ]
  },
  {
   "cell_type": "code",
   "execution_count": 54,
   "metadata": {},
   "outputs": [
    {
     "name": "stdout",
     "output_type": "stream",
     "text": [
      "Student:  Lisbeth Dahl   Gender: Female  has List of courses: [Course('Science', 321, 'Newton', 45, '10'), Course('Poetry', 291, 'Søren Kirkegaard', 90, '04'), Course('Philosophy', 391, 'Platon', 120, '12')]. image: random img url\n"
     ]
    }
   ],
   "source": [
    "#Testing Student\n",
    "\n",
    "testS = Student(\"Lisbeth Dahl \", \"Female \", dataSheet, \"random img url\")\n",
    "print (testS)\n",
    "\n",
    "\n"
   ]
  },
  {
   "cell_type": "code",
   "execution_count": null,
   "metadata": {},
   "outputs": [],
   "source": []
  }
 ],
 "metadata": {
  "kernelspec": {
   "display_name": "Python 3",
   "language": "python",
   "name": "python3"
  },
  "language_info": {
   "codemirror_mode": {
    "name": "ipython",
    "version": 3
   },
   "file_extension": ".py",
   "mimetype": "text/x-python",
   "name": "python",
   "nbconvert_exporter": "python",
   "pygments_lexer": "ipython3",
   "version": "3.7.6"
  }
 },
 "nbformat": 4,
 "nbformat_minor": 4
}
