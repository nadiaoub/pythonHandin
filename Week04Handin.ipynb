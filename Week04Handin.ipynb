{
 "cells": [
  {
   "cell_type": "markdown",
   "metadata": {},
   "source": [
    "# Week 4 Exercise with Numpy\n",
    "Use only numpy in these exercises\n",
    "\n",
    "Exercise 1\n",
    "\n",
    "Open the file './befkbhalderstatkode.csv'\n",
    "\n",
    "Turn the csv file into a numpy ndarray with np.genfromtxt(filename, delimiter=',', dtype=np.uint, skip_header=1)\n",
    "Using this data:\n",
    "\n",
    "neighb = {1: 'Indre By', 2: 'Østerbro', 3: 'Nørrebro', 4: 'Vesterbro/Kgs. Enghave', \n",
    "       5: 'Valby', 6: 'Vanløse', 7: 'Brønshøj-Husum', 8: 'Bispebjerg', 9: 'Amager Øst', \n",
    "       10: 'Amager Vest', 99: 'Udenfor'}\n",
    "       \n",
    "Find out how many people lived in each of the 11 areas in 2015\n",
    "\n",
    "Make a bar plot to show the size of each city area from the smallest to the largest\n",
    "\n",
    "Create a boolean mask to find out how many people above 65 years lived in Copenhagen in 2015\n",
    "\n",
    "How many of those were from the other nordic countries (not dk)\n",
    "\n",
    "Make a line plot showing the changes of number of people in vesterbro and østerbro from 1992 to 2015\n"
   ]
  },
  {
   "cell_type": "code",
   "execution_count": 5,
   "metadata": {},
   "outputs": [],
   "source": []
  },
  {
   "cell_type": "code",
   "execution_count": 35,
   "metadata": {},
   "outputs": [
    {
     "name": "stdout",
     "output_type": "stream",
     "text": [
      "<bound method NDFrame.head of          AAR  BYDEL  ALDER  STATKODE  PERSONER\n",
      "0       2015      1      0      5100       614\n",
      "1       2015      1      0      5104         2\n",
      "2       2015      1      0      5106         1\n",
      "3       2015      1      0      5110         1\n",
      "4       2015      1      0      5120         4\n",
      "...      ...    ...    ...       ...       ...\n",
      "542512  1992     99     81      5100         1\n",
      "542513  1992     99     87      5100         2\n",
      "542514  1992     99     89      5100         1\n",
      "542515  1992     99     90      5180         1\n",
      "542516  1992     99     93      5100         1\n",
      "\n",
      "[542517 rows x 5 columns]>\n"
     ]
    }
   ],
   "source": [
    "import numpy as np\n",
    "import pandas as pd\n",
    "import csv\n",
    "\n",
    "df =pd.read_csv('data/befkbhalderstatkode.csv')\n",
    "print(df.head)\n"
   ]
  },
  {
   "cell_type": "code",
   "execution_count": 39,
   "metadata": {},
   "outputs": [
    {
     "name": "stdout",
     "output_type": "stream",
     "text": [
      "[[2015    1    0 5100  614]\n",
      " [2015    1    0 5104    2]\n",
      " [2015    1    0 5106    1]\n",
      " ...\n",
      " [1992   99   89 5100    1]\n",
      " [1992   99   90 5180    1]\n",
      " [1992   99   93 5100    1]]\n"
     ]
    }
   ],
   "source": [
    "filename='data/befkbhalderstatkode.csv'\n",
    "bfk=np.genfromtxt(filename, delimiter=',', dtype=np.uint, skip_header=1)\n",
    "\n"
   ]
  },
  {
   "cell_type": "code",
   "execution_count": 40,
   "metadata": {},
   "outputs": [
    {
     "data": {
      "text/plain": [
       "{'Indre By': 51937,\n",
       " 'Østerbro': 75113,\n",
       " 'Nørrebro': 78802,\n",
       " 'Vesterbro/Kgs. Enghave': 61623,\n",
       " 'Valby': 51727,\n",
       " 'Vanløse': 39537,\n",
       " 'Brønshøj-Husum': 43908,\n",
       " 'Bispebjerg': 53604,\n",
       " 'Amager Øst': 55205,\n",
       " 'Amager Vest': 64967,\n",
       " 'Udenfor': 3872}"
      ]
     },
     "execution_count": 40,
     "metadata": {},
     "output_type": "execute_result"
    }
   ],
   "source": [
    "#Find out how many people lived in each of the 11 areas in 2015\n",
    "neighb = {1: 'Indre By', 2: 'Østerbro', 3: 'Nørrebro', 4: 'Vesterbro/Kgs. Enghave', 5: 'Valby', 6: 'Vanløse', 7: 'Brønshøj-Husum', 8: 'Bispebjerg', 9: 'Amager Øst', 10: 'Amager Vest', 99: 'Udenfor'}\n",
    "\n",
    "def lived_in_area():\n",
    "    \n",
    "    rs = {}\n",
    "    for zipcode in neighb:\n",
    "        mask = (bfk[:,0]== 2015) & (bfk[:,1]== zipcode)\n",
    "        total_of_ppl = np.sum(bfk[mask][:,4])\n",
    "        rs[neighb[zipcode]] = total_of_ppl\n",
    "    return rs\n",
    "\n",
    "lived_in_area()\n",
    "\n",
    "\n",
    "\n"
   ]
  },
  {
   "cell_type": "code",
   "execution_count": 28,
   "metadata": {},
   "outputs": [
    {
     "name": "stdout",
     "output_type": "stream",
     "text": [
      "['Indre By', 'Østerbro', 'Nørrebro', 'Vesterbro/Kgs. Enghave', 'Valby', 'Vanløse', 'Brønshøj-Husum', 'Bispebjerg', 'Amager Øst', 'Amager Vest', 'Udenfor']\n",
      "[51937, 75113, 78802, 61623, 51727, 39537, 43908, 53604, 55205, 64967, 3872]\n"
     ]
    },
    {
     "data": {
      "text/plain": [
       "([0, 1, 2, 3, 4, 5, 6, 7, 8, 9, 10],\n",
       " <a list of 11 Text major ticklabel objects>)"
      ]
     },
     "execution_count": 28,
     "metadata": {},
     "output_type": "execute_result"
    },
    {
     "data": {
      "image/png": "[encoded data removed]",
      "text/plain": [
       "<Figure size 432x288 with 1 Axes>"
      ]
     },
     "metadata": {
      "needs_background": "light"
     },
     "output_type": "display_data"
    }
   ],
   "source": [
    "#Make a bar plot to show the size of each city area from the smallest to the largest\n",
    "\n",
    "#udgangspunkt i befolkningstal\n",
    "\n",
    "import matplotlib.pyplot as plt\n",
    "\n",
    "population = lived_in_area() #metode fra forrige opg\n",
    "\n",
    "area =list(population.keys()) #x-axis\n",
    "print(area)\n",
    "\n",
    "size = list(population.values())#y-axis\n",
    "print(size)\n",
    "\n",
    "plt.ylabel(\"Population\") \n",
    "plt.xlabel(\"Area\")\n",
    "\n",
    "plt.bar(area,size)\n",
    "\n",
    "plt.xticks(rotation=45, horizontalalignment='right',fontweight='light')\n",
    "\n",
    "\n",
    "\n",
    "\n",
    "\n",
    "\n",
    "\n"
   ]
  },
  {
   "cell_type": "code",
   "execution_count": 46,
   "metadata": {},
   "outputs": [
    {
     "data": {
      "text/plain": [
       "55750"
      ]
     },
     "execution_count": 46,
     "metadata": {},
     "output_type": "execute_result"
    }
   ],
   "source": [
    "#Create a boolean mask to find out how many people above 65 years lived in Copenhagen in 2015\n",
    "\n",
    "mask = (bfk[:,0] == 2015) & (bfk[:,2] > 65)\n",
    "np.sum(bfk[mask][:,4])\n",
    "\n"
   ]
  },
  {
   "cell_type": "code",
   "execution_count": 49,
   "metadata": {},
   "outputs": [
    {
     "data": {
      "text/plain": [
       "177165"
      ]
     },
     "execution_count": 49,
     "metadata": {},
     "output_type": "execute_result"
    }
   ],
   "source": [
    "#How many of those were from the other nordic countries (not dk)\n",
    "\n",
    "#taken from danmarks statistik\n",
    "non_denmark = {5101: \"Grønland\",\n",
    "                         5104: \"Findland\",\n",
    "                         5105: \"Island, rigeret dansk\",\n",
    "                         5106: \"Island\",\n",
    "                         5110: \"Norge\",\n",
    "                         5120: \"Sverige\",\n",
    "                         5901: \"Færørerne uoplyst\",\n",
    "                         5902: \"Færørerne\"\n",
    "                         }\n",
    "\n",
    "mask =(bfk[:,0] == 2015)&(bfk[:,2]>65)&(bfk[:,3]==5104)|(bfk[:,3]==5105)|(bfk[:,3]==5106)|(bfk[:,3]==5110)|(bfk[:,3]==5120)|(bfk[:,3]==5901)|(bfk[:,3]==5902)\n",
    "np.sum(bfk[mask][:,4])\n",
    "\n"
   ]
  },
  {
   "cell_type": "code",
   "execution_count": 74,
   "metadata": {},
   "outputs": [
    {
     "data": {
      "text/plain": [
       "[<matplotlib.lines.Line2D at 0x7f876ddbbf10>]"
      ]
     },
     "execution_count": 74,
     "metadata": {},
     "output_type": "execute_result"
    },
    {
     "data": {
      "image/png": "[encoded data removed]",
      "text/plain": [
       "<Figure size 432x288 with 1 Axes>"
      ]
     },
     "metadata": {
      "needs_background": "light"
     },
     "output_type": "display_data"
    }
   ],
   "source": [
    "#Make a line plot showing the changes of number of people in vesterbro and østerbro from 1992 to 2015\n",
    "\n",
    "def oesterbro():\n",
    "    rs = {}\n",
    "    for i in range(1992,2016):\n",
    "        mask = (bfk[:,0] == i) & (bfk[:,1] == 2)\n",
    "        rs[i] = np.sum(bfk[mask][:,4])\n",
    "    return rs\n",
    "\n",
    "def vesterbro():\n",
    "    rs = {}\n",
    "    for i in range(1992,2016):\n",
    "        mask = (bfk[:,0] == i) & (bfk[:,1] == 4)\n",
    "        rs[i] = np.sum(bfk[mask][:,4])\n",
    "    return rs\n",
    "\n",
    "#østerbro will be shown in red , and vesterbro in blue \n",
    "oesterbro_ = oesterbro()\n",
    "plt.plot(list(oesterbro_.keys()), list(oesterbro_people.values()), color='red')\n",
    "vesterbro_ = vesterbro()\n",
    "plt.plot(list(vesterbro_.keys()), list(vesterbro_people.values()), color='blue')"
   ]
  },
  {
   "cell_type": "code",
   "execution_count": null,
   "metadata": {},
   "outputs": [],
   "source": []
  }
 ],
 "metadata": {
  "kernelspec": {
   "display_name": "Python 3",
   "language": "python",
   "name": "python3"
  },
  "language_info": {
   "codemirror_mode": {
    "name": "ipython",
    "version": 3
   },
   "file_extension": ".py",
   "mimetype": "text/x-python",
   "name": "python",
   "nbconvert_exporter": "python",
   "pygments_lexer": "ipython3",
   "version": "3.7.6"
  }
 },
 "nbformat": 4,
 "nbformat_minor": 4
}
